{
 "metadata": {
  "language_info": {
   "codemirror_mode": {
    "name": "ipython",
    "version": 3
   },
   "file_extension": ".py",
   "mimetype": "text/x-python",
   "name": "python",
   "nbconvert_exporter": "python",
   "pygments_lexer": "ipython3",
   "version": "3.9.1-final"
  },
  "orig_nbformat": 2,
  "kernelspec": {
   "name": "python3",
   "display_name": "Python 3.9.1 64-bit",
   "metadata": {
    "interpreter": {
     "hash": "a5369ec44780b43e696d9b52684be1145bece9c87d9676b22c79853f0b29e039"
    }
   }
  }
 },
 "nbformat": 4,
 "nbformat_minor": 2,
 "cells": [
  {
   "cell_type": "code",
   "execution_count": 9,
   "metadata": {},
   "outputs": [],
   "source": [
    "# Imports\n",
    "import numpy as np\n",
    "import pandas as pd "
   ]
  },
  {
   "cell_type": "code",
   "execution_count": 10,
   "metadata": {},
   "outputs": [],
   "source": [
    "data=pd.DataFrame(pd.read_csv('prog2_dataset.csv'))\n",
    "concepts = np.array(data.iloc[:,:-1])\n",
    "target = np.array(data.iloc[:,-1])"
   ]
  },
  {
   "cell_type": "code",
   "execution_count": 11,
   "metadata": {},
   "outputs": [],
   "source": [
    "def learn(concepts,target):\n",
    "    specific_h=concepts[0].copy()\n",
    "    general_h=[[\"?\" for i in range(len(specific_h))] for i in range(len(specific_h))]\n",
    "    \n",
    "    for i,h in enumerate(concepts):\n",
    "        if target[i]==\"yes\":\n",
    "            for x in range(len(specific_h)):\n",
    "                if h[x]!=specific_h[x]:\n",
    "                    specific_h[x]='?'\n",
    "                    general_h[x][x]='?'\n",
    "            print(\"\\nFor Training instance No:\",i)\n",
    "            print(\"Specific Hypothesis: \",specific_h)\n",
    "            print(\"General Hypothesis: \",general_h)\n",
    "        if target[i]==\"no\":\n",
    "            for x in range(len(specific_h)):\n",
    "                if h[x]!=specific_h[x]:\n",
    "                    general_h[x][x]=specific_h[x]\n",
    "                else:\n",
    "                    general_h[x][x]='?'\n",
    "            print(\"\\nFor Training instance No:\",i)\n",
    "            print(\"Specific Hypothesis: \",specific_h)\n",
    "            print(\"General Hypothesis: \",general_h)\n",
    "\n",
    "    indices=[i for i,val in enumerate(general_h) if val==['?','?','?','?','?','?']]\n",
    "    \n",
    "    for i in indices:\n",
    "        general_h.remove(['?','?','?','?','?','?'])\n",
    "        \n",
    "    return specific_h,general_h"
   ]
  },
  {
   "cell_type": "code",
   "execution_count": 12,
   "metadata": {},
   "outputs": [
    {
     "output_type": "stream",
     "name": "stdout",
     "text": [
      "\nFor Training instance No: 0\nSpecific Hypothesis:  ['sunny' 'warm' 'normal' 'strong' 'warm' 'same']\nGeneral Hypothesis:  [['?', '?', '?', '?', '?', '?'], ['?', '?', '?', '?', '?', '?'], ['?', '?', '?', '?', '?', '?'], ['?', '?', '?', '?', '?', '?'], ['?', '?', '?', '?', '?', '?'], ['?', '?', '?', '?', '?', '?']]\n\nFor Training instance No: 1\nSpecific Hypothesis:  ['sunny' 'warm' '?' 'strong' 'warm' 'same']\nGeneral Hypothesis:  [['?', '?', '?', '?', '?', '?'], ['?', '?', '?', '?', '?', '?'], ['?', '?', '?', '?', '?', '?'], ['?', '?', '?', '?', '?', '?'], ['?', '?', '?', '?', '?', '?'], ['?', '?', '?', '?', '?', '?']]\n\nFor Training instance No: 2\nSpecific Hypothesis:  ['sunny' 'warm' '?' 'strong' 'warm' 'same']\nGeneral Hypothesis:  [['sunny', '?', '?', '?', '?', '?'], ['?', 'warm', '?', '?', '?', '?'], ['?', '?', '?', '?', '?', '?'], ['?', '?', '?', '?', '?', '?'], ['?', '?', '?', '?', '?', '?'], ['?', '?', '?', '?', '?', 'same']]\n\nFor Training instance No: 3\nSpecific Hypothesis:  ['sunny' 'warm' '?' 'strong' '?' '?']\nGeneral Hypothesis:  [['sunny', '?', '?', '?', '?', '?'], ['?', 'warm', '?', '?', '?', '?'], ['?', '?', '?', '?', '?', '?'], ['?', '?', '?', '?', '?', '?'], ['?', '?', '?', '?', '?', '?'], ['?', '?', '?', '?', '?', '?']]\n\nFinal Specific hypothesis: ['sunny' 'warm' '?' 'strong' '?' '?']\nGeneral Specific hypothesis: [['sunny', '?', '?', '?', '?', '?'], ['?', 'warm', '?', '?', '?', '?']]\n"
     ]
    }
   ],
   "source": [
    "s_final,g_final = learn(concepts,target)\n",
    "print(\"\\nFinal Specific hypothesis:\",s_final)\n",
    "print(\"General Specific hypothesis:\",g_final)"
   ]
  },
  {
   "cell_type": "code",
   "execution_count": null,
   "metadata": {},
   "outputs": [],
   "source": []
  }
 ]
}