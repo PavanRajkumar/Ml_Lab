{
  "nbformat": 4,
  "nbformat_minor": 0,
  "metadata": {
    "colab": {
      "name": "Testing6.ipynb",
      "provenance": []
    },
    "kernelspec": {
      "name": "python3",
      "display_name": "Python 3.9.1 64-bit",
      "metadata": {
        "interpreter": {
          "hash": "a5369ec44780b43e696d9b52684be1145bece9c87d9676b22c79853f0b29e039"
        }
      }
    }
  },
  "cells": [
    {
      "cell_type": "code",
      "metadata": {
        "id": "JvIdvf7S5Ca3"
      },
      "source": [
        "import sklearn.datasets as skd\n",
        "from sklearn.feature_extraction.text import CountVectorizer\n",
        "from sklearn.feature_extraction.text import TfidfTransformer\n",
        "from sklearn.naive_bayes import MultinomialNB\n",
        "from sklearn import metrics"
      ],
      "execution_count": 1,
      "outputs": []
    },
    {
      "cell_type": "code",
      "metadata": {
        "id": "fBrAOmU_5JWX"
      },
      "source": [
        "categories=['alt.atheism','soc.religion.christian','comp.graphics','sci.med']\n",
        "news_train = skd.load_files(r\"20news-bydate-train\",categories=categories,encoding='ISO-8859-1')\n",
        "news_test = skd.load_files(r\"20news-bydate-test\",categories=categories,encoding='ISO-8859-1')"
      ],
      "execution_count": 2,
      "outputs": []
    },
    {
      "cell_type": "code",
      "metadata": {
        "colab": {
          "base_uri": "https://localhost:8080/"
        },
        "id": "_b7kl-CW5JNq",
        "outputId": "5d75b3f8-adec-42ac-d951-885e54cabfaa"
      },
      "source": [
        "count = CountVectorizer()\n",
        "tfid = TfidfTransformer()\n",
        "X_train = count.fit_transform(news_train.data)\n",
        "X_test = count.transform(news_test.data)\n",
        "X_train_tfid=tfid.fit_transform(X_train)\n",
        "X_test_tfid = tfid.transform(X_test)"
      ],
      "execution_count": 3,
      "outputs": []
    },
    {
      "cell_type": "code",
      "metadata": {
        "id": "XpJEIU6Z5I7L"
      },
      "source": [
        "multi = MultinomialNB()\n",
        "a = multi.fit(X_train_tfid, news_train.target)\n",
        "predicted = a.predict(X_test_tfid)\n",
        "print(metrics.classification_report(news_test.target, predicted))"
      ],
      "execution_count": 4,
      "outputs": [
        {
          "output_type": "stream",
          "name": "stdout",
          "text": [
            "Accuracy =  0.8348868175765646\n              precision    recall  f1-score   support\n\n           0       0.97      0.60      0.74       319\n           1       0.96      0.89      0.92       389\n           2       0.97      0.81      0.88       396\n           3       0.65      0.99      0.78       398\n\n    accuracy                           0.83      1502\n   macro avg       0.89      0.82      0.83      1502\nweighted avg       0.88      0.83      0.84      1502\n\n"
          ]
        }
      ]
    }
  ]
}