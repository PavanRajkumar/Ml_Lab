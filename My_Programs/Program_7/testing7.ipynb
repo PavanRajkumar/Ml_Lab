{
  "nbformat": 4,
  "nbformat_minor": 0,
  "metadata": {
    "kernelspec": {
      "display_name": "Python 3",
      "language": "python",
      "name": "python3"
    },
    "language_info": {
      "codemirror_mode": {
        "name": "ipython",
        "version": 3
      },
      "file_extension": ".py",
      "mimetype": "text/x-python",
      "name": "python",
      "nbconvert_exporter": "python",
      "pygments_lexer": "ipython3",
      "version": "3.7.3"
    },
    "colab": {
      "name": "testing7.ipynb",
      "provenance": []
    }
  },
  "cells": [
    {
      "cell_type": "code",
      "metadata": {
        "colab": {
          "base_uri": "https://localhost:8080/"
        },
        "id": "2XyadPHWYe_9",
        "outputId": "fb385f99-82f3-403b-8ce4-93643688a923"
      },
      "source": [
        "pip install pgmpy"
      ],
      "execution_count": 2,
      "outputs": [
        {
          "output_type": "stream",
          "text": [
            "Collecting pgmpy\n",
            "\u001b[?25l  Downloading https://files.pythonhosted.org/packages/06/19/d508949e8ac7b32e639f15e854a5f5ed710a4118e4f6692bddaccc390d88/pgmpy-0.1.13-py3-none-any.whl (324kB)\n",
            "\r\u001b[K     |█                               | 10kB 14.0MB/s eta 0:00:01\r\u001b[K     |██                              | 20kB 14.0MB/s eta 0:00:01\r\u001b[K     |███                             | 30kB 8.9MB/s eta 0:00:01\r\u001b[K     |████                            | 40kB 7.5MB/s eta 0:00:01\r\u001b[K     |█████                           | 51kB 4.6MB/s eta 0:00:01\r\u001b[K     |██████                          | 61kB 4.9MB/s eta 0:00:01\r\u001b[K     |███████                         | 71kB 5.1MB/s eta 0:00:01\r\u001b[K     |████████                        | 81kB 5.4MB/s eta 0:00:01\r\u001b[K     |█████████                       | 92kB 5.7MB/s eta 0:00:01\r\u001b[K     |██████████                      | 102kB 5.7MB/s eta 0:00:01\r\u001b[K     |███████████                     | 112kB 5.7MB/s eta 0:00:01\r\u001b[K     |████████████▏                   | 122kB 5.7MB/s eta 0:00:01\r\u001b[K     |█████████████▏                  | 133kB 5.7MB/s eta 0:00:01\r\u001b[K     |██████████████▏                 | 143kB 5.7MB/s eta 0:00:01\r\u001b[K     |███████████████▏                | 153kB 5.7MB/s eta 0:00:01\r\u001b[K     |████████████████▏               | 163kB 5.7MB/s eta 0:00:01\r\u001b[K     |█████████████████▏              | 174kB 5.7MB/s eta 0:00:01\r\u001b[K     |██████████████████▏             | 184kB 5.7MB/s eta 0:00:01\r\u001b[K     |███████████████████▏            | 194kB 5.7MB/s eta 0:00:01\r\u001b[K     |████████████████████▏           | 204kB 5.7MB/s eta 0:00:01\r\u001b[K     |█████████████████████▏          | 215kB 5.7MB/s eta 0:00:01\r\u001b[K     |██████████████████████▏         | 225kB 5.7MB/s eta 0:00:01\r\u001b[K     |███████████████████████▎        | 235kB 5.7MB/s eta 0:00:01\r\u001b[K     |████████████████████████▎       | 245kB 5.7MB/s eta 0:00:01\r\u001b[K     |█████████████████████████▎      | 256kB 5.7MB/s eta 0:00:01\r\u001b[K     |██████████████████████████▎     | 266kB 5.7MB/s eta 0:00:01\r\u001b[K     |███████████████████████████▎    | 276kB 5.7MB/s eta 0:00:01\r\u001b[K     |████████████████████████████▎   | 286kB 5.7MB/s eta 0:00:01\r\u001b[K     |█████████████████████████████▎  | 296kB 5.7MB/s eta 0:00:01\r\u001b[K     |██████████████████████████████▎ | 307kB 5.7MB/s eta 0:00:01\r\u001b[K     |███████████████████████████████▎| 317kB 5.7MB/s eta 0:00:01\r\u001b[K     |████████████████████████████████| 327kB 5.7MB/s \n",
            "\u001b[?25hRequirement already satisfied: torch in /usr/local/lib/python3.6/dist-packages (from pgmpy) (1.7.0+cu101)\n",
            "Requirement already satisfied: networkx in /usr/local/lib/python3.6/dist-packages (from pgmpy) (2.5)\n",
            "Requirement already satisfied: tqdm in /usr/local/lib/python3.6/dist-packages (from pgmpy) (4.41.1)\n",
            "Requirement already satisfied: joblib in /usr/local/lib/python3.6/dist-packages (from pgmpy) (1.0.0)\n",
            "Requirement already satisfied: pyparsing in /usr/local/lib/python3.6/dist-packages (from pgmpy) (2.4.7)\n",
            "Requirement already satisfied: scikit-learn in /usr/local/lib/python3.6/dist-packages (from pgmpy) (0.22.2.post1)\n",
            "Requirement already satisfied: statsmodels in /usr/local/lib/python3.6/dist-packages (from pgmpy) (0.10.2)\n",
            "Requirement already satisfied: scipy in /usr/local/lib/python3.6/dist-packages (from pgmpy) (1.4.1)\n",
            "Requirement already satisfied: numpy in /usr/local/lib/python3.6/dist-packages (from pgmpy) (1.19.5)\n",
            "Requirement already satisfied: pandas in /usr/local/lib/python3.6/dist-packages (from pgmpy) (1.1.5)\n",
            "Requirement already satisfied: typing-extensions in /usr/local/lib/python3.6/dist-packages (from torch->pgmpy) (3.7.4.3)\n",
            "Requirement already satisfied: dataclasses in /usr/local/lib/python3.6/dist-packages (from torch->pgmpy) (0.8)\n",
            "Requirement already satisfied: future in /usr/local/lib/python3.6/dist-packages (from torch->pgmpy) (0.16.0)\n",
            "Requirement already satisfied: decorator>=4.3.0 in /usr/local/lib/python3.6/dist-packages (from networkx->pgmpy) (4.4.2)\n",
            "Requirement already satisfied: patsy>=0.4.0 in /usr/local/lib/python3.6/dist-packages (from statsmodels->pgmpy) (0.5.1)\n",
            "Requirement already satisfied: pytz>=2017.2 in /usr/local/lib/python3.6/dist-packages (from pandas->pgmpy) (2018.9)\n",
            "Requirement already satisfied: python-dateutil>=2.7.3 in /usr/local/lib/python3.6/dist-packages (from pandas->pgmpy) (2.8.1)\n",
            "Requirement already satisfied: six in /usr/local/lib/python3.6/dist-packages (from patsy>=0.4.0->statsmodels->pgmpy) (1.15.0)\n",
            "Installing collected packages: pgmpy\n",
            "Successfully installed pgmpy-0.1.13\n"
          ],
          "name": "stdout"
        }
      ]
    },
    {
      "cell_type": "code",
      "metadata": {
        "scrolled": false,
        "colab": {
          "base_uri": "https://localhost:8080/"
        },
        "id": "I9WogcRiW_7U",
        "outputId": "1e25201f-8f19-418c-eeee-1c413d481957"
      },
      "source": [
        "import numpy as np\n",
        "import pandas as pd\n",
        "from pgmpy.factors.discrete import TabularCPD\n",
        "from pgmpy.models import BayesianModel\n",
        "from pgmpy.estimators import MaximumLikelihoodEstimator\n",
        "from pgmpy.inference import VariableElimination"
      ],
      "execution_count": 3,
      "outputs": [
        {
          "output_type": "stream",
          "text": [
            "/usr/local/lib/python3.6/dist-packages/statsmodels/tools/_testing.py:19: FutureWarning: pandas.util.testing is deprecated. Use the functions in the public API at pandas.testing instead.\n",
            "  import pandas.util.testing as tm\n"
          ],
          "name": "stderr"
        }
      ]
    },
    {
      "cell_type": "code",
      "metadata": {
        "colab": {
          "base_uri": "https://localhost:8080/",
          "height": 204
        },
        "id": "E6ZnWDPDW_7h",
        "outputId": "2c550882-3452-42fa-f890-207ce4661143"
      },
      "source": [
        "heartDisease = pd.read_csv('heart_disease_data1.csv')\r\n",
        "heartDisease.head()\r\n"
      ],
      "execution_count": 6,
      "outputs": [
        {
          "output_type": "execute_result",
          "data": {
            "text/html": [
              "<div>\n",
              "<style scoped>\n",
              "    .dataframe tbody tr th:only-of-type {\n",
              "        vertical-align: middle;\n",
              "    }\n",
              "\n",
              "    .dataframe tbody tr th {\n",
              "        vertical-align: top;\n",
              "    }\n",
              "\n",
              "    .dataframe thead th {\n",
              "        text-align: right;\n",
              "    }\n",
              "</style>\n",
              "<table border=\"1\" class=\"dataframe\">\n",
              "  <thead>\n",
              "    <tr style=\"text-align: right;\">\n",
              "      <th></th>\n",
              "      <th>age</th>\n",
              "      <th>Gender</th>\n",
              "      <th>Family</th>\n",
              "      <th>diet</th>\n",
              "      <th>Lifestyle</th>\n",
              "      <th>cholestrol</th>\n",
              "      <th>heartdisease</th>\n",
              "    </tr>\n",
              "  </thead>\n",
              "  <tbody>\n",
              "    <tr>\n",
              "      <th>0</th>\n",
              "      <td>0</td>\n",
              "      <td>0</td>\n",
              "      <td>1</td>\n",
              "      <td>1</td>\n",
              "      <td>3</td>\n",
              "      <td>0</td>\n",
              "      <td>1</td>\n",
              "    </tr>\n",
              "    <tr>\n",
              "      <th>1</th>\n",
              "      <td>0</td>\n",
              "      <td>1</td>\n",
              "      <td>1</td>\n",
              "      <td>1</td>\n",
              "      <td>3</td>\n",
              "      <td>0</td>\n",
              "      <td>1</td>\n",
              "    </tr>\n",
              "    <tr>\n",
              "      <th>2</th>\n",
              "      <td>1</td>\n",
              "      <td>0</td>\n",
              "      <td>0</td>\n",
              "      <td>0</td>\n",
              "      <td>2</td>\n",
              "      <td>1</td>\n",
              "      <td>1</td>\n",
              "    </tr>\n",
              "    <tr>\n",
              "      <th>3</th>\n",
              "      <td>4</td>\n",
              "      <td>0</td>\n",
              "      <td>1</td>\n",
              "      <td>1</td>\n",
              "      <td>3</td>\n",
              "      <td>2</td>\n",
              "      <td>0</td>\n",
              "    </tr>\n",
              "    <tr>\n",
              "      <th>4</th>\n",
              "      <td>3</td>\n",
              "      <td>1</td>\n",
              "      <td>1</td>\n",
              "      <td>0</td>\n",
              "      <td>0</td>\n",
              "      <td>2</td>\n",
              "      <td>0</td>\n",
              "    </tr>\n",
              "  </tbody>\n",
              "</table>\n",
              "</div>"
            ],
            "text/plain": [
              "   age  Gender  Family  diet  Lifestyle  cholestrol  heartdisease\n",
              "0    0       0       1     1          3           0             1\n",
              "1    0       1       1     1          3           0             1\n",
              "2    1       0       0     0          2           1             1\n",
              "3    4       0       1     1          3           2             0\n",
              "4    3       1       1     0          0           2             0"
            ]
          },
          "metadata": {
            "tags": []
          },
          "execution_count": 6
        }
      ]
    },
    {
      "cell_type": "code",
      "metadata": {
        "colab": {
          "base_uri": "https://localhost:8080/"
        },
        "id": "feGlJ553ZRyC",
        "outputId": "4a1fc604-58a7-4209-e2a1-d379bd5090f5"
      },
      "source": [
        "model = BayesianModel([('age', 'Gender'), ('Family', 'diet'),('Lifestyle', 'cholestrol'), ('cholestrol', 'heartdisease'), ('age', 'heartdisease'), ('diet', 'heartdisease')])\r\n",
        "model.fit(heartDisease)\r\n",
        "print(model.get_cpds('age'))\r\n"
      ],
      "execution_count": 8,
      "outputs": [
        {
          "output_type": "stream",
          "text": [
            "+--------+----------+\n",
            "| age(0) | 0.210526 |\n",
            "+--------+----------+\n",
            "| age(1) | 0.157895 |\n",
            "+--------+----------+\n",
            "| age(2) | 0.157895 |\n",
            "+--------+----------+\n",
            "| age(3) | 0.210526 |\n",
            "+--------+----------+\n",
            "| age(4) | 0.263158 |\n",
            "+--------+----------+\n"
          ],
          "name": "stdout"
        }
      ]
    },
    {
      "cell_type": "code",
      "metadata": {
        "colab": {
          "base_uri": "https://localhost:8080/"
        },
        "id": "IXvQ_uasZRsJ",
        "outputId": "0bcd58ce-3b83-4973-9de9-e4a531e15f34"
      },
      "source": [
        "heart_infer = VariableElimination(model)\r\n",
        "print(heart_infer)\r\n"
      ],
      "execution_count": 9,
      "outputs": [
        {
          "output_type": "stream",
          "text": [
            "<pgmpy.inference.ExactInference.VariableElimination object at 0x7f19297d4208>\n"
          ],
          "name": "stdout"
        }
      ]
    },
    {
      "cell_type": "code",
      "metadata": {
        "colab": {
          "base_uri": "https://localhost:8080/"
        },
        "id": "KX0R4c46ZRnZ",
        "outputId": "8253386a-c032-4358-c3fe-708e895eb85f"
      },
      "source": [
        "q = heart_infer.query(variables=['heartdisease'], evidence={'Gender': 1})\r\n",
        "print(q)\r\n"
      ],
      "execution_count": 10,
      "outputs": [
        {
          "output_type": "stream",
          "text": [
            "Finding Elimination Order: : 100%|██████████| 5/5 [00:00<00:00, 691.35it/s]\n",
            "Eliminating: age: 100%|██████████| 5/5 [00:00<00:00, 199.42it/s]"
          ],
          "name": "stderr"
        },
        {
          "output_type": "stream",
          "text": [
            "+-----------------+---------------------+\n",
            "| heartdisease    |   phi(heartdisease) |\n",
            "+=================+=====================+\n",
            "| heartdisease(0) |              0.5032 |\n",
            "+-----------------+---------------------+\n",
            "| heartdisease(1) |              0.4968 |\n",
            "+-----------------+---------------------+\n"
          ],
          "name": "stdout"
        },
        {
          "output_type": "stream",
          "text": [
            "\n"
          ],
          "name": "stderr"
        }
      ]
    },
    {
      "cell_type": "code",
      "metadata": {
        "id": "ttIjTg0pZbKJ"
      },
      "source": [
        ""
      ],
      "execution_count": 10,
      "outputs": []
    }
  ]
}