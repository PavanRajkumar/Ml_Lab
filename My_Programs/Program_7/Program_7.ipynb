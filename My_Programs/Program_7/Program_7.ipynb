{
 "metadata": {
  "language_info": {
   "codemirror_mode": {
    "name": "ipython",
    "version": 3
   },
   "file_extension": ".py",
   "mimetype": "text/x-python",
   "name": "python",
   "nbconvert_exporter": "python",
   "pygments_lexer": "ipython3",
   "version": 3
  },
  "orig_nbformat": 2
 },
 "nbformat": 4,
 "nbformat_minor": 2,
 "cells": [
  {
   "cell_type": "code",
   "execution_count": null,
   "metadata": {},
   "outputs": [],
   "source": [
    "import numpy as np\n",
    "import pandas as pd\n",
    "from pgmpy.factors.discrete import TabularCPD\n",
    "from pgmpy.models import BayesianModel\n",
    "from pgmpy.estimators import MaximumLikelihoodEstimator\n",
    "from pgmpy.inference import VariableElimination\n",
    "heartDisease = pd.read_csv('p.csv', names=['preg', 'glucose', \n",
    "'bp', 'skinthick', 'insulin', 'bmi', 'diapedigree', 'age', 'class'])\n",
    "heartDisease.head()\n",
    "model = BayesianModel([('preg', 'glucose'), ('bp', 'skinthick'),\n",
    "('insulin', 'bmi'), ('bmi', 'diapedigree'), ('age', 'class'), ('insulin', 'class')])\n",
    "model.fit(heartDisease, estimator=MaximumLikelihoodEstimator)\n",
    "print(model.get_cpds('preg'))\n",
    "heart_infer = VariableElimination(model)\n",
    "print(\"Probability of heart disease given age = 28\\n\")\n",
    "q = heart_infer.query(variables=['class'], evidence={'age': 28})\n",
    "print(q['class'])\n",
    "print(\"Probability of heart disease given bp = 60\\n\")\n",
    "q = heart_infer.query(variables=['class'], evidence={'insulin': 60})\n",
    "print(q['class'])\n"
   ]
  }
 ]
}