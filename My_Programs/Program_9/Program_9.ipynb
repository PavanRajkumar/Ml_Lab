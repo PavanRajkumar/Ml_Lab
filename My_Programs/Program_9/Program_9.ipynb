{
 "cells": [
  {
   "cell_type": "code",
   "execution_count": 117,
   "metadata": {},
   "outputs": [],
   "source": [
    "# Imports\n",
    "from sklearn.datasets import load_iris\n",
    "from sklearn.model_selection import train_test_split\n",
    "from sklearn.neighbors import KNeighborsClassifier\n",
    "from sklearn import metrics"
   ]
  },
  {
   "cell_type": "code",
   "execution_count": 118,
   "metadata": {},
   "outputs": [],
   "source": [
    "iris = load_iris()\n",
    "X = iris.data\n",
    "y = iris.target\n",
    "X_train, X_test, y_train, y_test = train_test_split(X, y)"
   ]
  },
  {
   "cell_type": "code",
   "execution_count": 119,
   "metadata": {},
   "outputs": [
    {
     "output_type": "stream",
     "name": "stdout",
     "text": [
      "accuracy= 0.8947368421052632\n"
     ]
    }
   ],
   "source": [
    "knn = KNeighborsClassifier()\n",
    "knn.fit(X_train,y_train)\n",
    "y_pred = knn.predict(X_test)\n",
    "print(\"accuracy=\",metrics.accuracy_score(y_pred,y_test))"
   ]
  },
  {
   "cell_type": "code",
   "execution_count": 120,
   "metadata": {},
   "outputs": [
    {
     "output_type": "stream",
     "name": "stdout",
     "text": [
      "Predicted \t\tActual \t\t\tAnswer \n\nsetosa \t\t setosa \t\t\tYes\nvirginica \t\t virginica \t\t\tYes\nversicolor \t\t versicolor \t\t\tYes\nsetosa \t\t setosa \t\t\tYes\nvirginica \t\t virginica \t\t\tYes\nversicolor \t\t virginica \t\t\tNo\nversicolor \t\t versicolor \t\t\tYes\nvirginica \t\t virginica \t\t\tYes\nsetosa \t\t setosa \t\t\tYes\nvirginica \t\t virginica \t\t\tYes\nversicolor \t\t versicolor \t\t\tYes\nvirginica \t\t virginica \t\t\tYes\nvirginica \t\t virginica \t\t\tYes\nversicolor \t\t versicolor \t\t\tYes\nversicolor \t\t versicolor \t\t\tYes\nversicolor \t\t versicolor \t\t\tYes\nversicolor \t\t virginica \t\t\tNo\nvirginica \t\t virginica \t\t\tYes\nsetosa \t\t setosa \t\t\tYes\nsetosa \t\t setosa \t\t\tYes\nsetosa \t\t setosa \t\t\tYes\nversicolor \t\t versicolor \t\t\tYes\nversicolor \t\t versicolor \t\t\tYes\nversicolor \t\t versicolor \t\t\tYes\nsetosa \t\t setosa \t\t\tYes\nvirginica \t\t virginica \t\t\tYes\nversicolor \t\t versicolor \t\t\tYes\nvirginica \t\t virginica \t\t\tYes\nvirginica \t\t virginica \t\t\tYes\nvirginica \t\t virginica \t\t\tYes\nversicolor \t\t versicolor \t\t\tYes\nversicolor \t\t versicolor \t\t\tYes\nversicolor \t\t versicolor \t\t\tYes\nversicolor \t\t virginica \t\t\tNo\nversicolor \t\t versicolor \t\t\tYes\nsetosa \t\t setosa \t\t\tYes\nversicolor \t\t virginica \t\t\tNo\nversicolor \t\t versicolor \t\t\tYes\n"
     ]
    }
   ],
   "source": [
    "#create a list for all the predicted one target name\n",
    "predicted = [iris.target_names[i] for i in y_pred]\n",
    "\n",
    "#create a list for all the target names of y_test data\n",
    "actual = [iris.target_names[i] for i in y_test]\n",
    "\n",
    "print(\"Predicted\",\"\\t\\tActual\",\"\\t\\t\\tAnswer\",\"\\n\")\n",
    "for i in range(0,len(predicted)):\n",
    "    print(predicted[i],\"\\t\\t\",actual[i],\"\\t\\t\",end='\\t')\n",
    "    if(predicted[i] == actual[i]):\n",
    "        print(\"Yes\")\n",
    "    else:\n",
    "        print(\"No\")\n",
    "\n"
   ]
  }
 ],
 "metadata": {
  "kernelspec": {
   "name": "python3",
   "display_name": "Python 3.9.1 64-bit",
   "metadata": {
    "interpreter": {
     "hash": "a5369ec44780b43e696d9b52684be1145bece9c87d9676b22c79853f0b29e039"
    }
   }
  },
  "language_info": {
   "codemirror_mode": {
    "name": "ipython",
    "version": 3
   },
   "file_extension": ".py",
   "mimetype": "text/x-python",
   "name": "python",
   "nbconvert_exporter": "python",
   "pygments_lexer": "ipython3",
   "version": "3.9.1-final"
  }
 },
 "nbformat": 4,
 "nbformat_minor": 2
}