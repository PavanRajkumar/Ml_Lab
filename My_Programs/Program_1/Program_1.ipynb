{
 "cells": [
  {
   "cell_type": "code",
   "execution_count": 3,
   "metadata": {},
   "outputs": [],
   "source": [
    "# Imports\n",
    "import pandas as pd\n",
    "import csv"
   ]
  },
  {
   "cell_type": "code",
   "execution_count": 4,
   "metadata": {},
   "outputs": [
    {
     "output_type": "stream",
     "name": "stdout",
     "text": [
      "The training data is as follows:\n     sky airtemp humidity    wind water forecast enjoysport\n0  Sunny    Warm   Normal  Strong  Warm     Same        Yes\n1  Sunny    Warm     High  Strong  Warm     Same        Yes\n2  Rainy    Cold     High  Strong  Warm   Change         No\n3  Sunny    Warm     High  Strong  Cool   Change        Yes\n\nThe most general hypothesis : ['?','?','?','?','?','?']\n\nThe most specific hypothesis : ['0', '0', '0', '0', '0', '0'] \n\n"
     ]
    }
   ],
   "source": [
    "# Read Training data\n",
    "traindata = pd.read_csv(\"trainingdata.csv\")\n",
    "\n",
    "cols = traindata.shape[1]\n",
    "rows = traindata.shape[0]\n",
    "\n",
    "print(\"The training data is as follows:\")\n",
    "print(traindata)\n",
    "\n",
    "print (\"\\nThe most general hypothesis : ['?','?','?','?','?','?']\\n\")\n",
    "\n",
    "h=['0','0','0','0','0','0']\n",
    "print (\"The most specific hypothesis :\",h,\"\\n\")"
   ]
  },
  {
   "cell_type": "code",
   "execution_count": 5,
   "metadata": {},
   "outputs": [
    {
     "output_type": "stream",
     "name": "stdout",
     "text": [
      "Positive samples are \n  [['Sunny', 'Warm', 'Normal', 'Strong', 'Warm', 'Same'], ['Sunny', 'Warm', 'High', 'Strong', 'Warm', 'Same'], ['Sunny', 'Warm', 'High', 'Strong', 'Cool', 'Change']]\nNegative samples are \n  [['Rainy', 'Cold', 'High', 'Strong', 'Warm', 'Change']]\n"
     ]
    }
   ],
   "source": [
    "# Create lists for positive and negative samples\n",
    "positivesample = []\n",
    "negativesample = []\n",
    "\n",
    "for i in range(rows):\n",
    "    trainsample = []\n",
    "    trainsample.append(traindata.sky[i])\n",
    "    trainsample.append(traindata.airtemp[i])\n",
    "    trainsample.append(traindata.humidity[i])\n",
    "    trainsample.append(traindata.wind[i])\n",
    "    trainsample.append(traindata.water[i])\n",
    "    trainsample.append(traindata.forecast[i])\n",
    "\n",
    "    if(traindata.enjoysport[i]!='No'):\n",
    "        positivesample.append(trainsample)\n",
    "    else:\n",
    "        negativesample.append(trainsample)\n",
    "\n",
    "print(\"Positive samples are \\n \", positivesample)\n",
    "print(\"Negative samples are \\n \", negativesample)"
   ]
  },
  {
   "cell_type": "code",
   "execution_count": 11,
   "metadata": {},
   "outputs": [
    {
     "output_type": "stream",
     "name": "stdout",
     "text": [
      "\nFor Training example 0 the hypothesis is ['Sunny', 'Warm', '?', 'Strong', '?', '?']\n\nFor Training example 1 the hypothesis is ['Sunny', 'Warm', '?', 'Strong', '?', '?']\n\nFor Training example 2 the hypothesis is ['Sunny', 'Warm', '?', 'Strong', '?', '?']\n\n The Maximally Specific Hypothesis for a given Training Examples :\n\n['Sunny', 'Warm', '?', 'Strong', '?', '?']\n"
     ]
    }
   ],
   "source": [
    "# Find - S Algorithm\n",
    "for i in range(len(positivesample)):\n",
    "    for j in range(cols-1):\n",
    "        if h[j]=='0':\n",
    "            h[j]=positivesample[i][j]\n",
    "        if h[j]!=positivesample[i][j]:\n",
    "            h[j]='?'\n",
    "    print(\"\\nFor Training example\", i ,\"the hypothesis is\" , h)\n",
    "\n",
    "# Print final hypothesis\n",
    "print(\"\\n The Maximally Specific Hypothesis for a given Training Examples :\\n\")\n",
    "print(h)"
   ]
  }
 ],
 "metadata": {
  "kernelspec": {
   "name": "python3",
   "display_name": "Python 3.9.1 64-bit",
   "metadata": {
    "interpreter": {
     "hash": "a5369ec44780b43e696d9b52684be1145bece9c87d9676b22c79853f0b29e039"
    }
   }
  },
  "language_info": {
   "codemirror_mode": {
    "name": "ipython",
    "version": 3
   },
   "file_extension": ".py",
   "mimetype": "text/x-python",
   "name": "python",
   "nbconvert_exporter": "python",
   "pygments_lexer": "ipython3",
   "version": "3.9.1-final"
  }
 },
 "nbformat": 4,
 "nbformat_minor": 2
}